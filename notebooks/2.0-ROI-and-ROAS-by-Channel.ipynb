{
 "cells": [
  {
   "cell_type": "code",
   "execution_count": 20,
   "id": "447519a6",
   "metadata": {
    "execution": {
     "iopub.execute_input": "2025-09-29T11:38:17.216838Z",
     "iopub.status.busy": "2025-09-29T11:38:17.216371Z",
     "iopub.status.idle": "2025-09-29T11:38:19.246775Z",
     "shell.execute_reply": "2025-09-29T11:38:19.245380Z"
    }
   },
   "outputs": [],
   "source": [
    "# Cell 1 - Setup\n",
    "from pathlib import Path\n",
    "\n",
    "import pandas as pd\n",
    "import seaborn as sns\n",
    "from matplotlib import pyplot as plt\n",
    "\n",
    "sns.set_theme(style=\"whitegrid\")\n",
    "\n",
    "PROJ_ROOT = Path.cwd()\n",
    "while PROJ_ROOT != PROJ_ROOT.parent and not (PROJ_ROOT / \"data\").exists():\n",
    "    PROJ_ROOT = PROJ_ROOT.parent\n",
    "\n",
    "DATA_DIR = PROJ_ROOT / \"data\" / \"processed\"\n",
    "REPORTS_DIR = PROJ_ROOT / \"reports\"\n",
    "TABLES_DIR = REPORTS_DIR / \"tables\"\n",
    "FIGURES_DIR = REPORTS_DIR / \"figures\"\n",
    "\n",
    "for path in [REPORTS_DIR, TABLES_DIR, FIGURES_DIR]:\n",
    "    path.mkdir(parents=True, exist_ok=True)\n",
    "\n",
    "PARQUET_PATH = DATA_DIR / \"events.parquet\"\n",
    "CSV_PATH = DATA_DIR / \"clean_data.csv\""
   ]
  },
  {
   "cell_type": "code",
   "execution_count": 21,
   "id": "07c3b34a",
   "metadata": {
    "execution": {
     "iopub.execute_input": "2025-09-29T11:38:19.249822Z",
     "iopub.status.busy": "2025-09-29T11:38:19.249478Z",
     "iopub.status.idle": "2025-09-29T11:38:19.364976Z",
     "shell.execute_reply": "2025-09-29T11:38:19.364016Z"
    }
   },
   "outputs": [
    {
     "name": "stdout",
     "output_type": "stream",
     "text": [
      "Loaded 90,189 rows from c:\\Users\\umyana\\Documents\\mobile_game_analytics_pipeline\\data\\processed\\events.parquet location.\n"
     ]
    },
    {
     "data": {
      "text/html": [
       "<div>\n",
       "<style scoped>\n",
       "    .dataframe tbody tr th:only-of-type {\n",
       "        vertical-align: middle;\n",
       "    }\n",
       "\n",
       "    .dataframe tbody tr th {\n",
       "        vertical-align: top;\n",
       "    }\n",
       "\n",
       "    .dataframe thead th {\n",
       "        text-align: right;\n",
       "    }\n",
       "</style>\n",
       "<table border=\"1\" class=\"dataframe\">\n",
       "  <thead>\n",
       "    <tr style=\"text-align: right;\">\n",
       "      <th></th>\n",
       "      <th>userid</th>\n",
       "      <th>version</th>\n",
       "      <th>session_count</th>\n",
       "      <th>retention_1</th>\n",
       "      <th>retention_7</th>\n",
       "      <th>acquisition_channel</th>\n",
       "      <th>country</th>\n",
       "      <th>platform</th>\n",
       "      <th>purchase</th>\n",
       "      <th>CAC</th>\n",
       "      <th>revenue</th>\n",
       "      <th>ROI</th>\n",
       "    </tr>\n",
       "  </thead>\n",
       "  <tbody>\n",
       "    <tr>\n",
       "      <th>0</th>\n",
       "      <td>116</td>\n",
       "      <td>gate_30</td>\n",
       "      <td>3</td>\n",
       "      <td>0</td>\n",
       "      <td>0</td>\n",
       "      <td>Facebook</td>\n",
       "      <td>USA</td>\n",
       "      <td>Google Play</td>\n",
       "      <td>0</td>\n",
       "      <td>2.8</td>\n",
       "      <td>0.023765</td>\n",
       "      <td>-0.991512</td>\n",
       "    </tr>\n",
       "    <tr>\n",
       "      <th>1</th>\n",
       "      <td>337</td>\n",
       "      <td>gate_30</td>\n",
       "      <td>38</td>\n",
       "      <td>0</td>\n",
       "      <td>0</td>\n",
       "      <td>TikTok</td>\n",
       "      <td>USA</td>\n",
       "      <td>Google Play</td>\n",
       "      <td>0</td>\n",
       "      <td>1.7</td>\n",
       "      <td>0.062804</td>\n",
       "      <td>-0.963057</td>\n",
       "    </tr>\n",
       "    <tr>\n",
       "      <th>2</th>\n",
       "      <td>377</td>\n",
       "      <td>gate_40</td>\n",
       "      <td>165</td>\n",
       "      <td>1</td>\n",
       "      <td>0</td>\n",
       "      <td>Facebook</td>\n",
       "      <td>USA</td>\n",
       "      <td>Google Play</td>\n",
       "      <td>0</td>\n",
       "      <td>2.8</td>\n",
       "      <td>0.087634</td>\n",
       "      <td>-0.968702</td>\n",
       "    </tr>\n",
       "    <tr>\n",
       "      <th>3</th>\n",
       "      <td>483</td>\n",
       "      <td>gate_40</td>\n",
       "      <td>1</td>\n",
       "      <td>0</td>\n",
       "      <td>0</td>\n",
       "      <td>Facebook</td>\n",
       "      <td>Mexico</td>\n",
       "      <td>Google Play</td>\n",
       "      <td>0</td>\n",
       "      <td>2.8</td>\n",
       "      <td>0.011883</td>\n",
       "      <td>-0.995756</td>\n",
       "    </tr>\n",
       "    <tr>\n",
       "      <th>4</th>\n",
       "      <td>488</td>\n",
       "      <td>gate_40</td>\n",
       "      <td>179</td>\n",
       "      <td>0</td>\n",
       "      <td>1</td>\n",
       "      <td>TikTok</td>\n",
       "      <td>USA</td>\n",
       "      <td>App Store</td>\n",
       "      <td>0</td>\n",
       "      <td>1.7</td>\n",
       "      <td>0.771525</td>\n",
       "      <td>-0.546162</td>\n",
       "    </tr>\n",
       "  </tbody>\n",
       "</table>\n",
       "</div>"
      ],
      "text/plain": [
       "   userid  version  session_count  retention_1  retention_7  \\\n",
       "0     116  gate_30              3            0            0   \n",
       "1     337  gate_30             38            0            0   \n",
       "2     377  gate_40            165            1            0   \n",
       "3     483  gate_40              1            0            0   \n",
       "4     488  gate_40            179            0            1   \n",
       "\n",
       "  acquisition_channel country     platform  purchase  CAC   revenue       ROI  \n",
       "0            Facebook     USA  Google Play         0  2.8  0.023765 -0.991512  \n",
       "1              TikTok     USA  Google Play         0  1.7  0.062804 -0.963057  \n",
       "2            Facebook     USA  Google Play         0  2.8  0.087634 -0.968702  \n",
       "3            Facebook  Mexico  Google Play         0  2.8  0.011883 -0.995756  \n",
       "4              TikTok     USA    App Store         0  1.7  0.771525 -0.546162  "
      ]
     },
     "execution_count": 21,
     "metadata": {},
     "output_type": "execute_result"
    }
   ],
   "source": [
    "# Cell 2 – Read Data\n",
    "if PARQUET_PATH.exists():\n",
    "    df = pd.read_parquet(PARQUET_PATH)\n",
    "    source_path = PARQUET_PATH\n",
    "else:\n",
    "    df = pd.read_csv(CSV_PATH, low_memory=False)\n",
    "    source_path = CSV_PATH\n",
    "\n",
    "print(f\"Loaded {len(df):,} rows from {source_path} location.\")\n",
    "df.head()"
   ]
  },
  {
   "cell_type": "code",
   "execution_count": 22,
   "id": "43d396bc",
   "metadata": {
    "execution": {
     "iopub.execute_input": "2025-09-29T11:38:19.368081Z",
     "iopub.status.busy": "2025-09-29T11:38:19.367758Z",
     "iopub.status.idle": "2025-09-29T11:38:19.390048Z",
     "shell.execute_reply": "2025-09-29T11:38:19.389199Z"
    }
   },
   "outputs": [
    {
     "data": {
      "text/html": [
       "<div>\n",
       "<style scoped>\n",
       "    .dataframe tbody tr th:only-of-type {\n",
       "        vertical-align: middle;\n",
       "    }\n",
       "\n",
       "    .dataframe tbody tr th {\n",
       "        vertical-align: top;\n",
       "    }\n",
       "\n",
       "    .dataframe thead th {\n",
       "        text-align: right;\n",
       "    }\n",
       "</style>\n",
       "<table border=\"1\" class=\"dataframe\">\n",
       "  <thead>\n",
       "    <tr style=\"text-align: right;\">\n",
       "      <th></th>\n",
       "      <th>revenue</th>\n",
       "      <th>CAC</th>\n",
       "      <th>ROI</th>\n",
       "    </tr>\n",
       "  </thead>\n",
       "  <tbody>\n",
       "    <tr>\n",
       "      <th>count</th>\n",
       "      <td>90189.000000</td>\n",
       "      <td>90189.000000</td>\n",
       "      <td>90189.000000</td>\n",
       "    </tr>\n",
       "    <tr>\n",
       "      <th>mean</th>\n",
       "      <td>0.546676</td>\n",
       "      <td>2.125861</td>\n",
       "      <td>-0.593476</td>\n",
       "    </tr>\n",
       "    <tr>\n",
       "      <th>std</th>\n",
       "      <td>3.315148</td>\n",
       "      <td>0.722230</td>\n",
       "      <td>3.920460</td>\n",
       "    </tr>\n",
       "    <tr>\n",
       "      <th>min</th>\n",
       "      <td>0.000000</td>\n",
       "      <td>0.300000</td>\n",
       "      <td>-1.000000</td>\n",
       "    </tr>\n",
       "    <tr>\n",
       "      <th>25%</th>\n",
       "      <td>0.035648</td>\n",
       "      <td>1.700000</td>\n",
       "      <td>-0.983623</td>\n",
       "    </tr>\n",
       "    <tr>\n",
       "      <th>50%</th>\n",
       "      <td>0.062359</td>\n",
       "      <td>2.300000</td>\n",
       "      <td>-0.970268</td>\n",
       "    </tr>\n",
       "    <tr>\n",
       "      <th>75%</th>\n",
       "      <td>0.205964</td>\n",
       "      <td>2.800000</td>\n",
       "      <td>-0.858005</td>\n",
       "    </tr>\n",
       "    <tr>\n",
       "      <th>max</th>\n",
       "      <td>121.653118</td>\n",
       "      <td>2.800000</td>\n",
       "      <td>319.650079</td>\n",
       "    </tr>\n",
       "  </tbody>\n",
       "</table>\n",
       "</div>"
      ],
      "text/plain": [
       "            revenue           CAC           ROI\n",
       "count  90189.000000  90189.000000  90189.000000\n",
       "mean       0.546676      2.125861     -0.593476\n",
       "std        3.315148      0.722230      3.920460\n",
       "min        0.000000      0.300000     -1.000000\n",
       "25%        0.035648      1.700000     -0.983623\n",
       "50%        0.062359      2.300000     -0.970268\n",
       "75%        0.205964      2.800000     -0.858005\n",
       "max      121.653118      2.800000    319.650079"
      ]
     },
     "metadata": {},
     "output_type": "display_data"
    }
   ],
   "source": [
    "# Cell 3 - Check\n",
    "required_cols = {\"acquisition_channel\", \"revenue\", \"CAC\", \"platform\"}\n",
    "missing = required_cols - set(df.columns)\n",
    "if missing:\n",
    "    raise ValueError(f\"Missing Columns: {sorted(missing)}\")\n",
    "\n",
    "summary = df[[\"revenue\", \"CAC\", \"ROI\"]].describe()\n",
    "display(summary)\n"
   ]
  },
  {
   "cell_type": "code",
   "execution_count": 23,
   "id": "40dddb74",
   "metadata": {
    "execution": {
     "iopub.execute_input": "2025-09-29T11:38:19.392281Z",
     "iopub.status.busy": "2025-09-29T11:38:19.391989Z",
     "iopub.status.idle": "2025-09-29T11:38:19.419868Z",
     "shell.execute_reply": "2025-09-29T11:38:19.418810Z"
    }
   },
   "outputs": [
    {
     "data": {
      "text/html": [
       "<div>\n",
       "<style scoped>\n",
       "    .dataframe tbody tr th:only-of-type {\n",
       "        vertical-align: middle;\n",
       "    }\n",
       "\n",
       "    .dataframe tbody tr th {\n",
       "        vertical-align: top;\n",
       "    }\n",
       "\n",
       "    .dataframe thead th {\n",
       "        text-align: right;\n",
       "    }\n",
       "</style>\n",
       "<table border=\"1\" class=\"dataframe\">\n",
       "  <thead>\n",
       "    <tr style=\"text-align: right;\">\n",
       "      <th></th>\n",
       "      <th>acquisition_channel</th>\n",
       "      <th>users</th>\n",
       "      <th>revenue</th>\n",
       "      <th>ad_spend</th>\n",
       "      <th>roi</th>\n",
       "      <th>roas</th>\n",
       "    </tr>\n",
       "  </thead>\n",
       "  <tbody>\n",
       "    <tr>\n",
       "      <th>2</th>\n",
       "      <td>Organic</td>\n",
       "      <td>9153</td>\n",
       "      <td>5091.083966</td>\n",
       "      <td>2745.9</td>\n",
       "      <td>0.854068</td>\n",
       "      <td>1.854068</td>\n",
       "    </tr>\n",
       "    <tr>\n",
       "      <th>3</th>\n",
       "      <td>TikTok</td>\n",
       "      <td>17979</td>\n",
       "      <td>10415.219151</td>\n",
       "      <td>30564.3</td>\n",
       "      <td>-0.659236</td>\n",
       "      <td>0.340764</td>\n",
       "    </tr>\n",
       "    <tr>\n",
       "      <th>1</th>\n",
       "      <td>Instagram</td>\n",
       "      <td>36281</td>\n",
       "      <td>19274.536869</td>\n",
       "      <td>83446.3</td>\n",
       "      <td>-0.769019</td>\n",
       "      <td>0.230981</td>\n",
       "    </tr>\n",
       "    <tr>\n",
       "      <th>0</th>\n",
       "      <td>Facebook</td>\n",
       "      <td>26776</td>\n",
       "      <td>14523.342010</td>\n",
       "      <td>74972.8</td>\n",
       "      <td>-0.806285</td>\n",
       "      <td>0.193715</td>\n",
       "    </tr>\n",
       "  </tbody>\n",
       "</table>\n",
       "</div>"
      ],
      "text/plain": [
       "  acquisition_channel  users       revenue  ad_spend       roi      roas\n",
       "2             Organic   9153   5091.083966    2745.9  0.854068  1.854068\n",
       "3              TikTok  17979  10415.219151   30564.3 -0.659236  0.340764\n",
       "1           Instagram  36281  19274.536869   83446.3 -0.769019  0.230981\n",
       "0            Facebook  26776  14523.342010   74972.8 -0.806285  0.193715"
      ]
     },
     "execution_count": 23,
     "metadata": {},
     "output_type": "execute_result"
    }
   ],
   "source": [
    "# Cell 4 – Channel based Aggregation\n",
    "roi_by_channel = (\n",
    "    df.groupby(\"acquisition_channel\", as_index=False)\n",
    "    .agg(\n",
    "        users=(\"userid\", \"nunique\"),\n",
    "        revenue=(\"revenue\", \"sum\"),\n",
    "        ad_spend=(\"CAC\", \"sum\"),\n",
    "    )\n",
    ")\n",
    "\n",
    "roi_by_channel[\"roi\"] = (\n",
    "    (roi_by_channel[\"revenue\"] - roi_by_channel[\"ad_spend\"])\n",
    "    / roi_by_channel[\"ad_spend\"].replace(0, pd.NA)\n",
    ")\n",
    "roi_by_channel[\"roas\"] = roi_by_channel[\"revenue\"] / roi_by_channel[\"ad_spend\"].replace(\n",
    "    0, pd.NA\n",
    ")\n",
    "\n",
    "roi_by_channel = roi_by_channel.sort_values(\"roas\", ascending=False)\n",
    "roi_by_channel\n"
   ]
  },
  {
   "cell_type": "code",
   "execution_count": 24,
   "id": "69850950",
   "metadata": {
    "execution": {
     "iopub.execute_input": "2025-09-29T11:38:19.422690Z",
     "iopub.status.busy": "2025-09-29T11:38:19.422419Z",
     "iopub.status.idle": "2025-09-29T11:38:19.430290Z",
     "shell.execute_reply": "2025-09-29T11:38:19.429373Z"
    }
   },
   "outputs": [
    {
     "name": "stdout",
     "output_type": "stream",
     "text": [
      "Channel based ROI/ROAS table saved into c:\\Users\\umyana\\Documents\\mobile_game_analytics_pipeline\\reports\\tables\\roi_by_channel.csv.\n"
     ]
    }
   ],
   "source": [
    "# Cell 5 – Save Channel Table\n",
    "roi_csv_path = TABLES_DIR / \"roi_by_channel.csv\"\n",
    "roi_by_channel.round(6).to_csv(roi_csv_path, index=False)\n",
    "print(f\"Channel based ROI/ROAS table saved into {roi_csv_path}.\")\n"
   ]
  },
  {
   "cell_type": "code",
   "execution_count": 25,
   "id": "5474f36b",
   "metadata": {
    "execution": {
     "iopub.execute_input": "2025-09-29T11:38:19.433823Z",
     "iopub.status.busy": "2025-09-29T11:38:19.433597Z",
     "iopub.status.idle": "2025-09-29T11:38:19.448089Z",
     "shell.execute_reply": "2025-09-29T11:38:19.447149Z"
    }
   },
   "outputs": [
    {
     "name": "stdout",
     "output_type": "stream",
     "text": [
      "Long formatted table saved into c:\\Users\\umyana\\Documents\\mobile_game_analytics_pipeline\\reports\\tables\\roi_by_channel_long.csv.\n"
     ]
    },
    {
     "data": {
      "text/html": [
       "<div>\n",
       "<style scoped>\n",
       "    .dataframe tbody tr th:only-of-type {\n",
       "        vertical-align: middle;\n",
       "    }\n",
       "\n",
       "    .dataframe tbody tr th {\n",
       "        vertical-align: top;\n",
       "    }\n",
       "\n",
       "    .dataframe thead th {\n",
       "        text-align: right;\n",
       "    }\n",
       "</style>\n",
       "<table border=\"1\" class=\"dataframe\">\n",
       "  <thead>\n",
       "    <tr style=\"text-align: right;\">\n",
       "      <th></th>\n",
       "      <th>acquisition_channel</th>\n",
       "      <th>users</th>\n",
       "      <th>metric</th>\n",
       "      <th>value</th>\n",
       "    </tr>\n",
       "  </thead>\n",
       "  <tbody>\n",
       "    <tr>\n",
       "      <th>0</th>\n",
       "      <td>Organic</td>\n",
       "      <td>9153</td>\n",
       "      <td>revenue</td>\n",
       "      <td>5091.083966</td>\n",
       "    </tr>\n",
       "    <tr>\n",
       "      <th>1</th>\n",
       "      <td>TikTok</td>\n",
       "      <td>17979</td>\n",
       "      <td>revenue</td>\n",
       "      <td>10415.219151</td>\n",
       "    </tr>\n",
       "    <tr>\n",
       "      <th>2</th>\n",
       "      <td>Instagram</td>\n",
       "      <td>36281</td>\n",
       "      <td>revenue</td>\n",
       "      <td>19274.536869</td>\n",
       "    </tr>\n",
       "    <tr>\n",
       "      <th>3</th>\n",
       "      <td>Facebook</td>\n",
       "      <td>26776</td>\n",
       "      <td>revenue</td>\n",
       "      <td>14523.342010</td>\n",
       "    </tr>\n",
       "    <tr>\n",
       "      <th>4</th>\n",
       "      <td>Organic</td>\n",
       "      <td>9153</td>\n",
       "      <td>ad_spend</td>\n",
       "      <td>2745.900000</td>\n",
       "    </tr>\n",
       "  </tbody>\n",
       "</table>\n",
       "</div>"
      ],
      "text/plain": [
       "  acquisition_channel  users    metric         value\n",
       "0             Organic   9153   revenue   5091.083966\n",
       "1              TikTok  17979   revenue  10415.219151\n",
       "2           Instagram  36281   revenue  19274.536869\n",
       "3            Facebook  26776   revenue  14523.342010\n",
       "4             Organic   9153  ad_spend   2745.900000"
      ]
     },
     "execution_count": 25,
     "metadata": {},
     "output_type": "execute_result"
    }
   ],
   "source": [
    "# Cell 6 – Long format for Tableau\n",
    "roi_long = roi_by_channel.melt(\n",
    "    id_vars=[\"acquisition_channel\", \"users\"],\n",
    "    value_vars=[\"revenue\", \"ad_spend\", \"roi\", \"roas\"],\n",
    "    var_name=\"metric\",\n",
    "    value_name=\"value\",\n",
    ")\n",
    "roi_long_path = TABLES_DIR / \"roi_by_channel_long.csv\"\n",
    "roi_long.round(6).to_csv(roi_long_path, index=False)\n",
    "print(f\"Long formatted table saved into {roi_long_path}.\")\n",
    "roi_long.head()\n"
   ]
  },
  {
   "cell_type": "code",
   "execution_count": 26,
   "id": "2dbef8a3",
   "metadata": {
    "execution": {
     "iopub.execute_input": "2025-09-29T11:38:19.451580Z",
     "iopub.status.busy": "2025-09-29T11:38:19.450955Z",
     "iopub.status.idle": "2025-09-29T11:38:19.637256Z",
     "shell.execute_reply": "2025-09-29T11:38:19.636589Z"
    }
   },
   "outputs": [
    {
     "name": "stderr",
     "output_type": "stream",
     "text": [
      "C:\\Users\\umyana\\AppData\\Local\\Temp\\ipykernel_28264\\2383864184.py:3: FutureWarning: \n",
      "\n",
      "Passing `palette` without assigning `hue` is deprecated and will be removed in v0.14.0. Assign the `y` variable to `hue` and set `legend=False` for the same effect.\n",
      "\n",
      "  sns.barplot(\n"
     ]
    },
    {
     "name": "stdout",
     "output_type": "stream",
     "text": [
      "ROAS graphic saved into c:\\Users\\umyana\\Documents\\mobile_game_analytics_pipeline\\reports\\figures\\roi_by_channel.png\n"
     ]
    }
   ],
   "source": [
    "# Cell 7 – ROAS graphic\n",
    "fig, ax = plt.subplots(figsize=(8, 5))\n",
    "sns.barplot(\n",
    "    data=roi_by_channel,\n",
    "    x=\"roas\",\n",
    "    y=\"acquisition_channel\",\n",
    "    palette=\"viridis\",\n",
    "    ax=ax,\n",
    ")\n",
    "\n",
    "ax.set_xlabel(\"ROAS\")\n",
    "ax.set_ylabel(\"Kanal\")\n",
    "ax.set_title(\"Channel based ROAS\")\n",
    "ax.axvline(1.0, color=\"red\", linestyle=\"--\", linewidth=1, label=\"Break-even ROAS\")\n",
    "ax.legend(loc=\"lower right\")\n",
    "\n",
    "for idx, row in roi_by_channel.iterrows():\n",
    "    ax.text(\n",
    "        row[\"roas\"] + 0.05,\n",
    "        idx,\n",
    "        f\"{row['roas']:.2f}\",\n",
    "        va=\"center\",\n",
    "    )\n",
    "\n",
    "fig.tight_layout()\n",
    "roas_fig_path = FIGURES_DIR / \"roi_by_channel.png\"\n",
    "fig.savefig(roas_fig_path, dpi=150, bbox_inches=\"tight\")\n",
    "plt.close(fig)\n",
    "print(f\"ROAS graphic saved into {roas_fig_path}\")\n"
   ]
  },
  {
   "cell_type": "code",
   "execution_count": 27,
   "id": "ff8f231d",
   "metadata": {
    "execution": {
     "iopub.execute_input": "2025-09-29T11:38:19.639460Z",
     "iopub.status.busy": "2025-09-29T11:38:19.639146Z",
     "iopub.status.idle": "2025-09-29T11:38:19.644318Z",
     "shell.execute_reply": "2025-09-29T11:38:19.642829Z"
    }
   },
   "outputs": [
    {
     "name": "stdout",
     "output_type": "stream",
     "text": [
      "Highest ROAS: Organic -> ROAS 1.85, ROI 85.41%\n",
      "Lowest ROAS: Facebook -> ROAS 0.19, ROI -80.63%\n"
     ]
    }
   ],
   "source": [
    "# Cell 8 – Short Summary\n",
    "top_channel = roi_by_channel.iloc[0]\n",
    "worst_channel = roi_by_channel.iloc[-1]\n",
    "\n",
    "print(\n",
    "    f\"Highest ROAS: {top_channel['acquisition_channel']} -> ROAS {top_channel['roas']:.2f}, ROI {top_channel['roi']:.2%}\\n\"\n",
    "    f\"Lowest ROAS: {worst_channel['acquisition_channel']} -> ROAS {worst_channel['roas']:.2f}, ROI {worst_channel['roi']:.2%}\"\n",
    ")\n"
   ]
  }
 ],
 "metadata": {
  "kernelspec": {
   "display_name": ".venv",
   "language": "python",
   "name": "python3"
  },
  "language_info": {
   "codemirror_mode": {
    "name": "ipython",
    "version": 3
   },
   "file_extension": ".py",
   "mimetype": "text/x-python",
   "name": "python",
   "nbconvert_exporter": "python",
   "pygments_lexer": "ipython3",
   "version": "3.13.5"
  }
 },
 "nbformat": 4,
 "nbformat_minor": 5
}
