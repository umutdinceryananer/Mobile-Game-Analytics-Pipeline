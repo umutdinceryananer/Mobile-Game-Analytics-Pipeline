{
 "cells": [
  {
   "cell_type": "code",
   "execution_count": 1,
   "id": "efd82188",
   "metadata": {
    "execution": {
     "iopub.execute_input": "2025-09-29T11:38:39.029925Z",
     "iopub.status.busy": "2025-09-29T11:38:39.029574Z",
     "iopub.status.idle": "2025-09-29T11:38:41.063396Z",
     "shell.execute_reply": "2025-09-29T11:38:41.062439Z"
    }
   },
   "outputs": [],
   "source": [
    "# Cell 1 – Imports & path setup\n",
    "from pathlib import Path\n",
    "\n",
    "import numpy as np\n",
    "import pandas as pd\n",
    "import seaborn as sns\n",
    "from matplotlib import pyplot as plt\n",
    "\n",
    "sns.set_theme(style=\"whitegrid\")\n",
    "\n",
    "PROJ_ROOT = Path.cwd()\n",
    "while PROJ_ROOT != PROJ_ROOT.parent and not (PROJ_ROOT / \"data\").exists():\n",
    "    PROJ_ROOT = PROJ_ROOT.parent\n",
    "\n",
    "DATA_DIR = PROJ_ROOT / \"data\" / \"processed\"\n",
    "REPORTS_DIR = PROJ_ROOT / \"reports\"\n",
    "TABLES_DIR = REPORTS_DIR / \"tables\"\n",
    "FIGURES_DIR = REPORTS_DIR / \"figures\"\n",
    "\n",
    "for path in [REPORTS_DIR, TABLES_DIR, FIGURES_DIR]:\n",
    "    path.mkdir(parents=True, exist_ok=True)\n",
    "\n",
    "PARQUET_PATH = DATA_DIR / \"events.parquet\"\n",
    "CSV_PATH = DATA_DIR / \"clean_data.csv\"\n"
   ]
  },
  {
   "cell_type": "code",
   "execution_count": 2,
   "id": "928cf135",
   "metadata": {
    "execution": {
     "iopub.execute_input": "2025-09-29T11:38:41.066617Z",
     "iopub.status.busy": "2025-09-29T11:38:41.066322Z",
     "iopub.status.idle": "2025-09-29T11:38:41.184561Z",
     "shell.execute_reply": "2025-09-29T11:38:41.183383Z"
    }
   },
   "outputs": [
    {
     "name": "stdout",
     "output_type": "stream",
     "text": [
      "Loaded 90,189 rows from c:\\Users\\umyana\\Documents\\mobile_game_analytics_pipeline\\data\\processed\\events.parquet\n"
     ]
    },
    {
     "data": {
      "text/html": [
       "<div>\n",
       "<style scoped>\n",
       "    .dataframe tbody tr th:only-of-type {\n",
       "        vertical-align: middle;\n",
       "    }\n",
       "\n",
       "    .dataframe tbody tr th {\n",
       "        vertical-align: top;\n",
       "    }\n",
       "\n",
       "    .dataframe thead th {\n",
       "        text-align: right;\n",
       "    }\n",
       "</style>\n",
       "<table border=\"1\" class=\"dataframe\">\n",
       "  <thead>\n",
       "    <tr style=\"text-align: right;\">\n",
       "      <th></th>\n",
       "      <th>userid</th>\n",
       "      <th>version</th>\n",
       "      <th>session_count</th>\n",
       "      <th>retention_1</th>\n",
       "      <th>retention_7</th>\n",
       "      <th>acquisition_channel</th>\n",
       "      <th>country</th>\n",
       "      <th>platform</th>\n",
       "      <th>purchase</th>\n",
       "      <th>CAC</th>\n",
       "      <th>revenue</th>\n",
       "      <th>ROI</th>\n",
       "    </tr>\n",
       "  </thead>\n",
       "  <tbody>\n",
       "    <tr>\n",
       "      <th>0</th>\n",
       "      <td>116</td>\n",
       "      <td>gate_30</td>\n",
       "      <td>3</td>\n",
       "      <td>0</td>\n",
       "      <td>0</td>\n",
       "      <td>Facebook</td>\n",
       "      <td>USA</td>\n",
       "      <td>Google Play</td>\n",
       "      <td>0</td>\n",
       "      <td>2.8</td>\n",
       "      <td>0.023765</td>\n",
       "      <td>-0.991512</td>\n",
       "    </tr>\n",
       "    <tr>\n",
       "      <th>1</th>\n",
       "      <td>337</td>\n",
       "      <td>gate_30</td>\n",
       "      <td>38</td>\n",
       "      <td>0</td>\n",
       "      <td>0</td>\n",
       "      <td>TikTok</td>\n",
       "      <td>USA</td>\n",
       "      <td>Google Play</td>\n",
       "      <td>0</td>\n",
       "      <td>1.7</td>\n",
       "      <td>0.062804</td>\n",
       "      <td>-0.963057</td>\n",
       "    </tr>\n",
       "    <tr>\n",
       "      <th>2</th>\n",
       "      <td>377</td>\n",
       "      <td>gate_40</td>\n",
       "      <td>165</td>\n",
       "      <td>1</td>\n",
       "      <td>0</td>\n",
       "      <td>Facebook</td>\n",
       "      <td>USA</td>\n",
       "      <td>Google Play</td>\n",
       "      <td>0</td>\n",
       "      <td>2.8</td>\n",
       "      <td>0.087634</td>\n",
       "      <td>-0.968702</td>\n",
       "    </tr>\n",
       "    <tr>\n",
       "      <th>3</th>\n",
       "      <td>483</td>\n",
       "      <td>gate_40</td>\n",
       "      <td>1</td>\n",
       "      <td>0</td>\n",
       "      <td>0</td>\n",
       "      <td>Facebook</td>\n",
       "      <td>Mexico</td>\n",
       "      <td>Google Play</td>\n",
       "      <td>0</td>\n",
       "      <td>2.8</td>\n",
       "      <td>0.011883</td>\n",
       "      <td>-0.995756</td>\n",
       "    </tr>\n",
       "    <tr>\n",
       "      <th>4</th>\n",
       "      <td>488</td>\n",
       "      <td>gate_40</td>\n",
       "      <td>179</td>\n",
       "      <td>0</td>\n",
       "      <td>1</td>\n",
       "      <td>TikTok</td>\n",
       "      <td>USA</td>\n",
       "      <td>App Store</td>\n",
       "      <td>0</td>\n",
       "      <td>1.7</td>\n",
       "      <td>0.771525</td>\n",
       "      <td>-0.546162</td>\n",
       "    </tr>\n",
       "  </tbody>\n",
       "</table>\n",
       "</div>"
      ],
      "text/plain": [
       "   userid  version  session_count  retention_1  retention_7  \\\n",
       "0     116  gate_30              3            0            0   \n",
       "1     337  gate_30             38            0            0   \n",
       "2     377  gate_40            165            1            0   \n",
       "3     483  gate_40              1            0            0   \n",
       "4     488  gate_40            179            0            1   \n",
       "\n",
       "  acquisition_channel country     platform  purchase  CAC   revenue       ROI  \n",
       "0            Facebook     USA  Google Play         0  2.8  0.023765 -0.991512  \n",
       "1              TikTok     USA  Google Play         0  1.7  0.062804 -0.963057  \n",
       "2            Facebook     USA  Google Play         0  2.8  0.087634 -0.968702  \n",
       "3            Facebook  Mexico  Google Play         0  2.8  0.011883 -0.995756  \n",
       "4              TikTok     USA    App Store         0  1.7  0.771525 -0.546162  "
      ]
     },
     "execution_count": 2,
     "metadata": {},
     "output_type": "execute_result"
    }
   ],
   "source": [
    "# Cell 2 – Load processed dataset\n",
    "if PARQUET_PATH.exists():\n",
    "    df = pd.read_parquet(PARQUET_PATH)\n",
    "    source_path = PARQUET_PATH\n",
    "else:\n",
    "    df = pd.read_csv(CSV_PATH, low_memory=False)\n",
    "    source_path = CSV_PATH\n",
    "\n",
    "print(f\"Loaded {len(df):,} rows from {source_path}\")\n",
    "df.head()\n"
   ]
  },
  {
   "cell_type": "code",
   "execution_count": 3,
   "id": "560af611",
   "metadata": {
    "execution": {
     "iopub.execute_input": "2025-09-29T11:38:41.186915Z",
     "iopub.status.busy": "2025-09-29T11:38:41.186725Z",
     "iopub.status.idle": "2025-09-29T11:38:41.192387Z",
     "shell.execute_reply": "2025-09-29T11:38:41.191883Z"
    }
   },
   "outputs": [
    {
     "name": "stdout",
     "output_type": "stream",
     "text": [
      "Average D1 retention: 45.49%\n",
      "Average D7 retention: 33.29%\n"
     ]
    }
   ],
   "source": [
    "# Cell 3 – Sanity checks\n",
    "required_cols = {\n",
    "    \"userid\",\n",
    "    \"acquisition_channel\",\n",
    "    \"platform\",\n",
    "    \"version\",\n",
    "    \"retention_1\",\n",
    "    \"retention_7\",\n",
    "}\n",
    "missing = required_cols - set(df.columns)\n",
    "if missing:\n",
    "    raise ValueError(f\"Missing columns: {sorted(missing)}\")\n",
    "\n",
    "summary = df[[\"retention_1\", \"retention_7\"]].mean().rename(\"rate\")\n",
    "print(f\"Average D1 retention: {summary['retention_1']:.2%}\")\n",
    "print(f\"Average D7 retention: {summary['retention_7']:.2%}\")\n"
   ]
  },
  {
   "cell_type": "code",
   "execution_count": 4,
   "id": "9780b9b0",
   "metadata": {
    "execution": {
     "iopub.execute_input": "2025-09-29T11:38:41.194704Z",
     "iopub.status.busy": "2025-09-29T11:38:41.194295Z",
     "iopub.status.idle": "2025-09-29T11:38:41.218088Z",
     "shell.execute_reply": "2025-09-29T11:38:41.217372Z"
    }
   },
   "outputs": [
    {
     "data": {
      "text/html": [
       "<div>\n",
       "<style scoped>\n",
       "    .dataframe tbody tr th:only-of-type {\n",
       "        vertical-align: middle;\n",
       "    }\n",
       "\n",
       "    .dataframe tbody tr th {\n",
       "        vertical-align: top;\n",
       "    }\n",
       "\n",
       "    .dataframe thead th {\n",
       "        text-align: right;\n",
       "    }\n",
       "</style>\n",
       "<table border=\"1\" class=\"dataframe\">\n",
       "  <thead>\n",
       "    <tr style=\"text-align: right;\">\n",
       "      <th></th>\n",
       "      <th>acquisition_channel</th>\n",
       "      <th>users</th>\n",
       "      <th>d1_rate</th>\n",
       "      <th>d7_rate</th>\n",
       "      <th>d7_from_d1</th>\n",
       "    </tr>\n",
       "  </thead>\n",
       "  <tbody>\n",
       "    <tr>\n",
       "      <th>2</th>\n",
       "      <td>Organic</td>\n",
       "      <td>9153</td>\n",
       "      <td>0.476674</td>\n",
       "      <td>0.351906</td>\n",
       "      <td>0.738253</td>\n",
       "    </tr>\n",
       "    <tr>\n",
       "      <th>1</th>\n",
       "      <td>Instagram</td>\n",
       "      <td>36281</td>\n",
       "      <td>0.459855</td>\n",
       "      <td>0.337697</td>\n",
       "      <td>0.734356</td>\n",
       "    </tr>\n",
       "    <tr>\n",
       "      <th>0</th>\n",
       "      <td>Facebook</td>\n",
       "      <td>26776</td>\n",
       "      <td>0.448947</td>\n",
       "      <td>0.327084</td>\n",
       "      <td>0.728558</td>\n",
       "    </tr>\n",
       "    <tr>\n",
       "      <th>3</th>\n",
       "      <td>TikTok</td>\n",
       "      <td>17979</td>\n",
       "      <td>0.442516</td>\n",
       "      <td>0.322432</td>\n",
       "      <td>0.728632</td>\n",
       "    </tr>\n",
       "  </tbody>\n",
       "</table>\n",
       "</div>"
      ],
      "text/plain": [
       "  acquisition_channel  users   d1_rate   d7_rate  d7_from_d1\n",
       "2             Organic   9153  0.476674  0.351906    0.738253\n",
       "1           Instagram  36281  0.459855  0.337697    0.734356\n",
       "0            Facebook  26776  0.448947  0.327084    0.728558\n",
       "3              TikTok  17979  0.442516  0.322432    0.728632"
      ]
     },
     "execution_count": 4,
     "metadata": {},
     "output_type": "execute_result"
    }
   ],
   "source": [
    "# Cell 4 – Retention by acquisition channel\n",
    "channel_retention = (\n",
    "    df.groupby(\"acquisition_channel\", as_index=False)\n",
    "    .agg(\n",
    "        users=(\"userid\", \"nunique\"),\n",
    "        d1_rate=(\"retention_1\", \"mean\"),\n",
    "        d7_rate=(\"retention_7\", \"mean\"),\n",
    "    )\n",
    ")\n",
    "\n",
    "channel_retention[\"d7_from_d1\"] = channel_retention[\"d7_rate\"] / channel_retention[\"d1_rate\"].replace(0, np.nan)\n",
    "channel_retention = channel_retention.sort_values(\"d7_rate\", ascending=False)\n",
    "\n",
    "channel_retention\n"
   ]
  },
  {
   "cell_type": "code",
   "execution_count": 5,
   "id": "c30a0beb",
   "metadata": {
    "execution": {
     "iopub.execute_input": "2025-09-29T11:38:41.220787Z",
     "iopub.status.busy": "2025-09-29T11:38:41.220515Z",
     "iopub.status.idle": "2025-09-29T11:38:41.230594Z",
     "shell.execute_reply": "2025-09-29T11:38:41.229931Z"
    }
   },
   "outputs": [
    {
     "name": "stdout",
     "output_type": "stream",
     "text": [
      "Saved channel retention table to c:\\Users\\umyana\\Documents\\mobile_game_analytics_pipeline\\reports\\tables\\retention_by_channel.csv\n"
     ]
    }
   ],
   "source": [
    "# Cell 5 – Export channel retention table\n",
    "retention_csv_path = TABLES_DIR / \"retention_by_channel.csv\"\n",
    "channel_retention.round(6).to_csv(retention_csv_path, index=False)\n",
    "print(f\"Saved channel retention table to {retention_csv_path}\")\n"
   ]
  },
  {
   "cell_type": "code",
   "execution_count": 6,
   "id": "d5c41ae7",
   "metadata": {
    "execution": {
     "iopub.execute_input": "2025-09-29T11:38:41.232762Z",
     "iopub.status.busy": "2025-09-29T11:38:41.232552Z",
     "iopub.status.idle": "2025-09-29T11:38:41.261195Z",
     "shell.execute_reply": "2025-09-29T11:38:41.260376Z"
    }
   },
   "outputs": [
    {
     "name": "stdout",
     "output_type": "stream",
     "text": [
      "Saved version-level cohort table to c:\\Users\\umyana\\Documents\\mobile_game_analytics_pipeline\\reports\\tables\\retention_cohort_by_version.csv\n"
     ]
    },
    {
     "data": {
      "text/html": [
       "<div>\n",
       "<style scoped>\n",
       "    .dataframe tbody tr th:only-of-type {\n",
       "        vertical-align: middle;\n",
       "    }\n",
       "\n",
       "    .dataframe tbody tr th {\n",
       "        vertical-align: top;\n",
       "    }\n",
       "\n",
       "    .dataframe thead th {\n",
       "        text-align: right;\n",
       "    }\n",
       "</style>\n",
       "<table border=\"1\" class=\"dataframe\">\n",
       "  <thead>\n",
       "    <tr style=\"text-align: right;\">\n",
       "      <th></th>\n",
       "      <th>version</th>\n",
       "      <th>acquisition_channel</th>\n",
       "      <th>users</th>\n",
       "      <th>d1_rate</th>\n",
       "      <th>d7_rate</th>\n",
       "    </tr>\n",
       "  </thead>\n",
       "  <tbody>\n",
       "    <tr>\n",
       "      <th>0</th>\n",
       "      <td>gate_30</td>\n",
       "      <td>Facebook</td>\n",
       "      <td>13288</td>\n",
       "      <td>0.452288</td>\n",
       "      <td>0.330975</td>\n",
       "    </tr>\n",
       "    <tr>\n",
       "      <th>1</th>\n",
       "      <td>gate_30</td>\n",
       "      <td>Instagram</td>\n",
       "      <td>17960</td>\n",
       "      <td>0.466704</td>\n",
       "      <td>0.339866</td>\n",
       "    </tr>\n",
       "    <tr>\n",
       "      <th>2</th>\n",
       "      <td>gate_30</td>\n",
       "      <td>Organic</td>\n",
       "      <td>4572</td>\n",
       "      <td>0.477034</td>\n",
       "      <td>0.358268</td>\n",
       "    </tr>\n",
       "    <tr>\n",
       "      <th>3</th>\n",
       "      <td>gate_30</td>\n",
       "      <td>TikTok</td>\n",
       "      <td>8880</td>\n",
       "      <td>0.447297</td>\n",
       "      <td>0.324550</td>\n",
       "    </tr>\n",
       "    <tr>\n",
       "      <th>4</th>\n",
       "      <td>gate_40</td>\n",
       "      <td>Facebook</td>\n",
       "      <td>13488</td>\n",
       "      <td>0.445655</td>\n",
       "      <td>0.323250</td>\n",
       "    </tr>\n",
       "  </tbody>\n",
       "</table>\n",
       "</div>"
      ],
      "text/plain": [
       "   version acquisition_channel  users   d1_rate   d7_rate\n",
       "0  gate_30            Facebook  13288  0.452288  0.330975\n",
       "1  gate_30           Instagram  17960  0.466704  0.339866\n",
       "2  gate_30             Organic   4572  0.477034  0.358268\n",
       "3  gate_30              TikTok   8880  0.447297  0.324550\n",
       "4  gate_40            Facebook  13488  0.445655  0.323250"
      ]
     },
     "execution_count": 6,
     "metadata": {},
     "output_type": "execute_result"
    }
   ],
   "source": [
    "# Cell 6 – Cohort table by version\n",
    "cohort_version = (\n",
    "    df.groupby([\"version\", \"acquisition_channel\"], as_index=False)\n",
    "    .agg(\n",
    "        users=(\"userid\", \"nunique\"),\n",
    "        d1_rate=(\"retention_1\", \"mean\"),\n",
    "        d7_rate=(\"retention_7\", \"mean\"),\n",
    "    )\n",
    ")\n",
    "\n",
    "cohort_version_path = TABLES_DIR / \"retention_cohort_by_version.csv\"\n",
    "cohort_version.round(6).to_csv(cohort_version_path, index=False)\n",
    "print(f\"Saved version-level cohort table to {cohort_version_path}\")\n",
    "cohort_version.head()\n"
   ]
  },
  {
   "cell_type": "code",
   "execution_count": 7,
   "id": "dfa8b7ce",
   "metadata": {
    "execution": {
     "iopub.execute_input": "2025-09-29T11:38:41.264161Z",
     "iopub.status.busy": "2025-09-29T11:38:41.263816Z",
     "iopub.status.idle": "2025-09-29T11:38:41.505999Z",
     "shell.execute_reply": "2025-09-29T11:38:41.505364Z"
    }
   },
   "outputs": [
    {
     "name": "stdout",
     "output_type": "stream",
     "text": [
      "Saved heatmap to c:\\Users\\umyana\\Documents\\mobile_game_analytics_pipeline\\reports\\figures\\retention_heatmap.png\n"
     ]
    }
   ],
   "source": [
    "# Cell 7 – Heatmap for D7 retention\n",
    "heatmap_data = cohort_version.pivot_table(\n",
    "    index=\"acquisition_channel\",\n",
    "    columns=\"version\",\n",
    "    values=\"d7_rate\",\n",
    ")\n",
    "\n",
    "plt.figure(figsize=(10, 4 + len(heatmap_data) * 0.3))\n",
    "sns.heatmap(\n",
    "    heatmap_data,\n",
    "    cmap=\"YlGnBu\",\n",
    "    annot=True,\n",
    "    fmt=\".1%\",\n",
    "    cbar_kws={\"label\": \"D7 retention\"},\n",
    ")\n",
    "\n",
    "plt.title(\"D7 Retention by Version and Channel\")\n",
    "plt.xlabel(\"Version\")\n",
    "plt.ylabel(\"Acquisition channel\")\n",
    "plt.tight_layout()\n",
    "\n",
    "heatmap_path = FIGURES_DIR / \"retention_heatmap.png\"\n",
    "plt.savefig(heatmap_path, dpi=150, bbox_inches=\"tight\")\n",
    "plt.close()\n",
    "print(f\"Saved heatmap to {heatmap_path}\")\n"
   ]
  },
  {
   "cell_type": "code",
   "execution_count": 8,
   "id": "149eca2e",
   "metadata": {
    "execution": {
     "iopub.execute_input": "2025-09-29T11:38:41.508209Z",
     "iopub.status.busy": "2025-09-29T11:38:41.507958Z",
     "iopub.status.idle": "2025-09-29T11:38:41.512633Z",
     "shell.execute_reply": "2025-09-29T11:38:41.511816Z"
    }
   },
   "outputs": [
    {
     "name": "stdout",
     "output_type": "stream",
     "text": [
      "Highest D7 channel: Organic -> 35.19%. Lowest D7 channel: TikTok -> 32.24%.\n"
     ]
    }
   ],
   "source": [
    "# Cell 8 – Text summary\n",
    "top_d7 = channel_retention.iloc[0]\n",
    "worst_d7 = channel_retention.iloc[-1]\n",
    "\n",
    "print(\n",
    "    f\"Highest D7 channel: {top_d7['acquisition_channel']} -> {top_d7['d7_rate']:.2%}. \"\n",
    "    f\"Lowest D7 channel: {worst_d7['acquisition_channel']} -> {worst_d7['d7_rate']:.2%}.\"\n",
    ")\n"
   ]
  }
 ],
 "metadata": {
  "kernelspec": {
   "display_name": ".venv",
   "language": "python",
   "name": "python3"
  },
  "language_info": {
   "codemirror_mode": {
    "name": "ipython",
    "version": 3
   },
   "file_extension": ".py",
   "mimetype": "text/x-python",
   "name": "python",
   "nbconvert_exporter": "python",
   "pygments_lexer": "ipython3",
   "version": "3.13.5"
  }
 },
 "nbformat": 4,
 "nbformat_minor": 5
}
